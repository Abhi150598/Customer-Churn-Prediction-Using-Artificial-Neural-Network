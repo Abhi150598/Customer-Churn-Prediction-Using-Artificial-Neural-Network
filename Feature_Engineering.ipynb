{
 "cells": [
  {
   "cell_type": "markdown",
   "id": "da6b6316",
   "metadata": {},
   "source": [
    "# FeatureEngineering"
   ]
  },
  {
   "cell_type": "code",
   "execution_count": 11,
   "id": "da8c667f",
   "metadata": {},
   "outputs": [],
   "source": [
    "# Drop irrelevant columns\n",
    "data.drop(columns=[\"RowNumber\", \"CustomerId\", \"Surname\"], inplace=True, axis=1)"
   ]
  },
  {
   "cell_type": "code",
   "execution_count": 12,
   "id": "bc7a45e1",
   "metadata": {},
   "outputs": [],
   "source": [
    "# Map categorical variables to numerical values\n",
    "map_gen = {\"Male\": 1, \"Female\": 0}\n",
    "map_geo = {\"France\": 0, \"Spain\": 1, \"Germany\": 2}\n",
    "data[\"Gender\"] = data[\"Gender\"].map(map_gen)\n",
    "data[\"Geography\"] = data[\"Geography\"].map(map_geo)\n"
   ]
  },
  {
   "cell_type": "markdown",
   "id": "6d3cb5ba",
   "metadata": {},
   "source": [
    "Insight:\n",
    "\n",
    "Dropping irrelevant columns (e.g., RowNumber, CustomerId, Surname) helps streamline the dataset for analysis, also they are irrelevant for the analysis.\n",
    "Mapping categorical variables (Gender, Geography) to numerical values prepares these features for model input.\n"
   ]
  },
  {
   "cell_type": "code",
   "execution_count": 13,
   "id": "ccc37147",
   "metadata": {},
   "outputs": [],
   "source": [
    "# Bin CreditScore into categorical values\n",
    "data.loc[data['CreditScore'] <= 579, 'CreditScore'] = 0\n",
    "data.loc[(data['CreditScore'] >= 580) & (data['CreditScore'] <= 669), 'CreditScore'] = 1\n",
    "data.loc[(data['CreditScore'] >= 670) & (data['CreditScore'] <= 739), 'CreditScore'] = 2\n",
    "data.loc[(data['CreditScore'] >= 740) & (data['CreditScore'] <= 799), 'CreditScore'] = 3\n",
    "data.loc[data['CreditScore'] >= 800, 'CreditScore'] = 4\n",
    "data[\"CreditScore\"] = data[\"CreditScore\"].astype(int)"
   ]
  },
  {
   "cell_type": "code",
   "execution_count": 14,
   "id": "e3e22b2f",
   "metadata": {},
   "outputs": [],
   "source": [
    "# Bin Age into categorical values\n",
    "data.loc[data['Age'] <= 32, 'Age'] = 0\n",
    "data.loc[(data['Age'] > 32) & (data['Age'] <= 37), 'Age'] = 1\n",
    "data.loc[(data['Age'] > 37) & (data['Age'] <= 44), 'Age'] = 2\n",
    "data.loc[data['Age'] > 44, 'Age'] = 3\n",
    "data[\"Age\"] = data[\"Age\"].astype(int)"
   ]
  },
  {
   "cell_type": "code",
   "execution_count": 15,
   "id": "00e216d0",
   "metadata": {},
   "outputs": [
    {
     "data": {
      "text/plain": [
       "<Axes: xlabel='Age', ylabel='count'>"
      ]
     },
     "execution_count": 15,
     "metadata": {},
     "output_type": "execute_result"
    },
    {
     "data": {
      "image/png": "[encoded data removed]",
      "text/plain": [
       "<Figure size 640x480 with 1 Axes>"
      ]
     },
     "metadata": {},
     "output_type": "display_data"
    }
   ],
   "source": [
    "sns.countplot(x=\"Age\",data=data, palette=\"Set2\")"
   ]
  },
  {
   "cell_type": "markdown",
   "id": "e2416c4f",
   "metadata": {},
   "source": [
    "Insight:\n",
    "\n",
    "Binning CreditScore and Age into categorical ranges simplifies these continuous variables, which can potentially improve model performance and interpretability.\n",
    "This transformation helps in reducing noise and focusing on significant patterns."
   ]
  },
  {
   "cell_type": "code",
   "execution_count": 16,
   "id": "1343e1fc",
   "metadata": {},
   "outputs": [],
   "source": [
    "# Separate features and target variable\n",
    "feature_matrix = data.drop(\"Exited\", axis=1)\n",
    "target = data[\"Exited\"]\n"
   ]
  },
  {
   "cell_type": "code",
   "execution_count": 17,
   "id": "70222346",
   "metadata": {},
   "outputs": [],
   "source": [
    "# Split the data\n",
    "X_train, X_temp, y_train, y_temp = train_test_split(feature_matrix, target, test_size=0.3, random_state=42, stratify=target)\n",
    "X_val, X_test, y_val, y_test = train_test_split(X_temp, y_temp, test_size=0.5, random_state=42, stratify=y_temp)\n"
   ]
  },
  {
   "cell_type": "code",
   "execution_count": 18,
   "id": "244ea398",
   "metadata": {},
   "outputs": [
    {
     "data": {
      "text/plain": [
       "0    5574\n",
       "1    1426\n",
       "Name: Exited, dtype: int64"
      ]
     },
     "execution_count": 18,
     "metadata": {},
     "output_type": "execute_result"
    }
   ],
   "source": [
    "y_train.value_counts()"
   ]
  },
  {
   "cell_type": "markdown",
   "id": "c3b2e9ea",
   "metadata": {},
   "source": [
    "Insight:\n",
    "\n",
    "The dataset is divided into training (70%), validation (15%), and test (15%) sets.\n",
    "Stratified splitting ensures that the distribution of the target variable (Exited) is maintained across all sets, providing a balanced and representative sample for training and evaluation."
   ]
  },
  {
   "cell_type": "code",
   "execution_count": 19,
   "id": "5b38b686",
   "metadata": {},
   "outputs": [],
   "source": [
    "#Standardization\n",
    "scaler = MinMaxScaler()\n",
    "X_train=scaler.fit_transform(X_train)\n",
    "X_val=scaler.transform(X_val)\n",
    "X_test=scaler.transform(X_test)"
   ]
  },
  {
   "cell_type": "markdown",
   "id": "6de5c99b",
   "metadata": {},
   "source": [
    "Insight:\n",
    "\n",
    "Normalizing the feature values using Min-Max scaling ensures that all features contribute equally to the model training, improving convergence and performance of the neural network."
   ]
  }
 ],
 "metadata": {
  "kernelspec": {
   "display_name": "Python 3 (ipykernel)",
   "language": "python",
   "name": "python3"
  },
  "language_info": {
   "codemirror_mode": {
    "name": "ipython",
    "version": 3
   },
   "file_extension": ".py",
   "mimetype": "text/x-python",
   "name": "python",
   "nbconvert_exporter": "python",
   "pygments_lexer": "ipython3",
   "version": "3.11.5"
  }
 },
 "nbformat": 4,
 "nbformat_minor": 5
}
